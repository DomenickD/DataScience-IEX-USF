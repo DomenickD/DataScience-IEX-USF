{
 "cells": [
  {
   "cell_type": "markdown",
   "metadata": {},
   "source": [
    "# Titanic"
   ]
  },
  {
   "cell_type": "markdown",
   "metadata": {},
   "source": [
    "[Tensorflow](#topic-1) | [Pytorch](#topic-2) | [Visualizatons](#topic-3) \n"
   ]
  },
  {
   "cell_type": "code",
   "execution_count": 80,
   "metadata": {},
   "outputs": [],
   "source": [
    "#import data minuplations modules\n",
    "import pandas as pd\n",
    "import numpy as np\n",
    "from sklearn.pipeline import Pipeline\n",
    "\n",
    "#import viuslaization models\n",
    "import matplotlib.pyplot as plt\n",
    "import seaborn as sns\n",
    "\n",
    "#import normalization modules\n",
    "from sklearn.preprocessing import StandardScaler, MinMaxScaler, RobustScaler\n",
    "\n",
    "#import preprocessing train_test_split module\n",
    "# from sklearn.model_selection import train_test_split # Do not need this with the multiple datasets kaggle has given\n",
    "\n",
    "#import machine learning models\n",
    "from sklearn.linear_model import LogisticRegression\n",
    "from sklearn.tree import DecisionTreeClassifier\n",
    "from sklearn.ensemble import RandomForestClassifier\n",
    "from sklearn.naive_bayes import GaussianNB\n",
    "from sklearn.neighbors import KNeighborsClassifier\n",
    "from sklearn import svm\n",
    "from sklearn.svm import SVC\n",
    "\n",
    "#import NN models - Pytorch\n",
    "import torch\n",
    "import torch.nn as nn\n",
    "import torch.optim as optim\n",
    "from torch.utils.data import DataLoader, TensorDataset\n",
    "\n",
    "#import NN models - Tensorflow\n",
    "import tensorflow as tf\n",
    "from tensorflow.keras import layers, models\n",
    "\n",
    "#import accuracy_score function from sklearn.metrics to score models better\n",
    "from sklearn.metrics import accuracy_score"
   ]
  },
  {
   "cell_type": "code",
   "execution_count": 81,
   "metadata": {},
   "outputs": [],
   "source": [
    "#load the data into dataframes\n",
    "#data retrieved from kaggle competitions\n",
    "train = pd.read_csv(\"train.csv\")\n",
    "test = pd.read_csv(\"test.csv\")\n",
    "gender_submission = pd.read_csv(\"gender_submission.csv\")"
   ]
  },
  {
   "cell_type": "code",
   "execution_count": 82,
   "metadata": {},
   "outputs": [],
   "source": [
    "#Dummies variables for PClass to prevent bias toward one number being weighed more than another\n",
    "train = pd.concat([train, pd.get_dummies(train[\"Pclass\"], prefix='Pclass')], axis=1)\n",
    "test = pd.concat([test, pd.get_dummies(test[\"Pclass\"], prefix='Pclass')], axis=1)\n",
    "\n",
    "# Let's make the sex cloumn into a binary column\n",
    "train['Sex_binary'] = train.Sex.map({\"male\": 0, \"female\": 1}) \n",
    "test['Sex_binary'] = test.Sex.map({\"male\": 0, \"female\": 1})\n",
    "\n",
    "# train.head()"
   ]
  },
  {
   "cell_type": "code",
   "execution_count": 83,
   "metadata": {},
   "outputs": [],
   "source": [
    "# columns_to_drop = [\"Pclass\", \"Name\", \"Sex\", \"SibSp\", \"Parch\", \"Ticket\", \"Fare\", \"Cabin\", \"Embarked\"]\n",
    "columns_to_drop = [\"Pclass\", \"Name\", \"Sex\",  \"Ticket\", \"Cabin\", \"Embarked\"]\n",
    "\n",
    "train = train.drop(columns_to_drop, axis = 1)\n",
    "test = test.drop(columns_to_drop, axis = 1)\n",
    "# train.head()"
   ]
  },
  {
   "cell_type": "code",
   "execution_count": 84,
   "metadata": {},
   "outputs": [
    {
     "name": "stderr",
     "output_type": "stream",
     "text": [
      "C:\\Users\\Domenick Dobbs\\AppData\\Local\\Temp\\ipykernel_1704\\1733767599.py:2: FutureWarning: A value is trying to be set on a copy of a DataFrame or Series through chained assignment using an inplace method.\n",
      "The behavior will change in pandas 3.0. This inplace method will never work because the intermediate object on which we are setting values always behaves as a copy.\n",
      "\n",
      "For example, when doing 'df[col].method(value, inplace=True)', try using 'df.method({col: value}, inplace=True)' or df[col] = df[col].method(value) instead, to perform the operation inplace on the original object.\n",
      "\n",
      "\n",
      "  train['Age'].fillna(value = round(train['Age'].mean()), inplace = True) #look up .fillna function\n",
      "C:\\Users\\Domenick Dobbs\\AppData\\Local\\Temp\\ipykernel_1704\\1733767599.py:3: FutureWarning: A value is trying to be set on a copy of a DataFrame or Series through chained assignment using an inplace method.\n",
      "The behavior will change in pandas 3.0. This inplace method will never work because the intermediate object on which we are setting values always behaves as a copy.\n",
      "\n",
      "For example, when doing 'df[col].method(value, inplace=True)', try using 'df.method({col: value}, inplace=True)' or df[col] = df[col].method(value) instead, to perform the operation inplace on the original object.\n",
      "\n",
      "\n",
      "  test['Age'].fillna(value = round(test['Age'].mean()), inplace = True)\n",
      "C:\\Users\\Domenick Dobbs\\AppData\\Local\\Temp\\ipykernel_1704\\1733767599.py:7: FutureWarning: A value is trying to be set on a copy of a DataFrame or Series through chained assignment using an inplace method.\n",
      "The behavior will change in pandas 3.0. This inplace method will never work because the intermediate object on which we are setting values always behaves as a copy.\n",
      "\n",
      "For example, when doing 'df[col].method(value, inplace=True)', try using 'df.method({col: value}, inplace=True)' or df[col] = df[col].method(value) instead, to perform the operation inplace on the original object.\n",
      "\n",
      "\n",
      "  test['Fare'].fillna(value = round(test['Fare'].mean()), inplace = True)\n"
     ]
    }
   ],
   "source": [
    "\n",
    "#Let's fill in the ages with the mean of all ages.\n",
    "train['Age'].fillna(value = round(train['Age'].mean()), inplace = True) #look up .fillna function\n",
    "test['Age'].fillna(value = round(test['Age'].mean()), inplace = True) \n",
    "train[\"Age\"].count() #now we have every row accounted for. \n",
    "\n",
    "# test[\"Fare\"].dropna(axis=0, how='any', inplace=True)\n",
    "test['Fare'].fillna(value = round(test['Fare'].mean()), inplace = True) "
   ]
  },
  {
   "cell_type": "markdown",
   "metadata": {},
   "source": [
    "# Prepare the data\n",
    " We were given two datasets so we will split them accordingly. WIth one dataset we would use the train_test_split function from the model selection of sklearn. "
   ]
  },
  {
   "cell_type": "code",
   "execution_count": 85,
   "metadata": {},
   "outputs": [],
   "source": [
    "#I want to focus on training a model on Age, Sex_binary, FirstClass, SecondClass, ThirdClass, \"SibSp\", \"Parch\", \"Fare\"\n",
    "#The goal is to predict whether or not the user survived based on this. \n",
    "train_features = train[[\"Age\", \"Sex_binary\", \"Pclass_1\",\"Pclass_2\", \"Pclass_3\", \"Fare\"]]\n",
    "train_labels = train[\"Survived\"]\n",
    "test_features = test[[\"Age\", \"Sex_binary\", \"Pclass_1\", \"Pclass_2\", \"Pclass_3\", \"Fare\"]]\n",
    "test_labels = gender_submission[\"Survived\"]\n",
    "\n",
    "#initialize an accuracy test key = model , value = accuracy score\n",
    "model_accuracy_titanic_compare = {}"
   ]
  },
  {
   "cell_type": "code",
   "execution_count": 86,
   "metadata": {},
   "outputs": [],
   "source": [
    "def train_and_evaluate_model(model, scaler, train_features, train_labels, test_features, test_labels):\n",
    "    train_features_scaled = scaler.fit_transform(train_features)\n",
    "    test_features_scaled = scaler.transform(test_features)\n",
    "    \n",
    "    model.fit(train_features_scaled, train_labels)\n",
    "    y_predict = model.predict(test_features_scaled)\n",
    "    \n",
    "    accuracy = accuracy_score(test_labels, y_predict)\n",
    "    \n",
    "    model_key = f\"{model.__class__.__name__} - {scaler.__class__.__name__}\"\n",
    "    model_accuracy_titanic_compare[model_key] = accuracy\n",
    "    \n",
    "    return accuracy"
   ]
  },
  {
   "cell_type": "code",
   "execution_count": 87,
   "metadata": {},
   "outputs": [],
   "source": [
    "# Initialize Scalar Models\n",
    "scaler = StandardScaler()\n",
    "min_max_scaler = MinMaxScaler()\n",
    "robust_scaler = RobustScaler()"
   ]
  },
  {
   "cell_type": "code",
   "execution_count": 88,
   "metadata": {},
   "outputs": [],
   "source": [
    "# Scale the feature data so it has mean = 0 and standard deviation = 1\n",
    "# scaler = StandardScaler()\n",
    "# train_features_Scalar = scaler.fit_transform(train_features)\n",
    "# test_features_Scalar = scaler.transform(test_features)\n",
    "\n",
    "# MinMaxScaler = MinMaxScaler()\n",
    "# train_features_MinMax = scaler.fit_transform(train_features)\n",
    "# test_features_MinMax = scaler.transform(test_features)\n",
    "\n",
    "# robust_scale = RobustScaler()\n",
    "# train_features_Robust = robust_scale.fit_transform(train_features)\n",
    "# test_features_Robust = robust_scale.transform(test_features)"
   ]
  },
  {
   "cell_type": "markdown",
   "metadata": {},
   "source": [
    "# Compare all models against 3 scalar functions\n",
    "Not the Neural networks"
   ]
  },
  {
   "cell_type": "code",
   "execution_count": 89,
   "metadata": {},
   "outputs": [
    {
     "data": {
      "text/plain": [
       "{'LogisticRegression - StandardScaler': 0.9641148325358851,\n",
       " 'LogisticRegression - MinMaxScaler': 0.9784688995215312,\n",
       " 'LogisticRegression - RobustScaler': 0.9617224880382775,\n",
       " 'DecisionTreeClassifier - StandardScaler': 0.9617224880382775,\n",
       " 'DecisionTreeClassifier - MinMaxScaler': 0.9617224880382775,\n",
       " 'DecisionTreeClassifier - RobustScaler': 0.9617224880382775,\n",
       " 'RandomForestClassifier - StandardScaler': 0.9282296650717703,\n",
       " 'RandomForestClassifier - MinMaxScaler': 0.9425837320574163,\n",
       " 'RandomForestClassifier - RobustScaler': 0.9186602870813397,\n",
       " 'GaussianNB - StandardScaler': 0.7655502392344498,\n",
       " 'GaussianNB - MinMaxScaler': 0.7655502392344498,\n",
       " 'GaussianNB - RobustScaler': 0.7655502392344498,\n",
       " 'KNeighborsClassifier - StandardScaler': 0.8373205741626795,\n",
       " 'KNeighborsClassifier - MinMaxScaler': 0.8373205741626795,\n",
       " 'KNeighborsClassifier - RobustScaler': 0.8133971291866029,\n",
       " 'SVC - StandardScaler': 0.9665071770334929,\n",
       " 'SVC - MinMaxScaler': 0.9449760765550239,\n",
       " 'SVC - RobustScaler': 0.8325358851674641}"
      ]
     },
     "execution_count": 89,
     "metadata": {},
     "output_type": "execute_result"
    }
   ],
   "source": [
    "#initialze Logistic regression Models models\n",
    "model = LogisticRegression()\n",
    "model2 = LogisticRegression()\n",
    "model3 = LogisticRegression()\n",
    "\n",
    "# Initialize DecisionTreeClassifier Models\n",
    "tree_model1 = DecisionTreeClassifier(criterion='entropy', max_depth=3)\n",
    "tree_model2 = DecisionTreeClassifier(criterion='entropy', max_depth=3)\n",
    "tree_model3 = DecisionTreeClassifier(criterion='entropy', max_depth=3)\n",
    "\n",
    "# Initilize the RandomForest Classifiers \n",
    "RFC_model1 = RandomForestClassifier(n_estimators=80, criterion='gini', max_depth=4)\n",
    "RFC_model2 = RandomForestClassifier(n_estimators=80, criterion='gini', max_depth=4)\n",
    "RFC_model3 = RandomForestClassifier(n_estimators=80, criterion='gini', max_depth=4)\n",
    "\n",
    "#initialize naive bayes\n",
    "nb_model1 = GaussianNB()\n",
    "nb_model2 = GaussianNB()\n",
    "nb_model3 = GaussianNB()\n",
    "\n",
    "# Initialize KNN\n",
    "knn_model1 = KNeighborsClassifier(n_neighbors=3) \n",
    "knn_model2 = KNeighborsClassifier(n_neighbors=3) \n",
    "knn_model3 = KNeighborsClassifier(n_neighbors=3) \n",
    "\n",
    "# Initilize Support Vector Machines\n",
    "svm_svc_model1 = svm.SVC(kernel='poly', C=1.5) \n",
    "svm_svc_model2 = svm.SVC(kernel='poly', C=1.5) \n",
    "svm_svc_model3 = svm.SVC(kernel='poly', C=1.5) \n",
    "\n",
    "# Train and evaluate models\n",
    "LR_model_acc_score_Scalar = train_and_evaluate_model(model, scaler, train_features, train_labels, test_features, test_labels)\n",
    "LR_model_acc_score_MinMax = train_and_evaluate_model(model2, min_max_scaler, train_features, train_labels, test_features, test_labels)\n",
    "LR_model_acc_score_Robust = train_and_evaluate_model(model3, robust_scaler, train_features, train_labels, test_features, test_labels)\n",
    "\n",
    "DecisionTree_acc_score_Scalar = train_and_evaluate_model(tree_model1, scaler, train_features, train_labels, test_features, test_labels)\n",
    "DecisionTree_acc_score_MinMax = train_and_evaluate_model(tree_model2, min_max_scaler, train_features, train_labels, test_features, test_labels)\n",
    "DecisionTree_acc_score_Robust = train_and_evaluate_model(tree_model3, robust_scaler, train_features, train_labels, test_features, test_labels)\n",
    "\n",
    "RandomForest_acc_score_Scalar = train_and_evaluate_model(RFC_model1, scaler, train_features, train_labels, test_features, test_labels)\n",
    "RandomForest_acc_score_MinMax = train_and_evaluate_model(RFC_model2, min_max_scaler, train_features, train_labels, test_features, test_labels)\n",
    "RandomForest_acc_score_Robust = train_and_evaluate_model(RFC_model3, robust_scaler, train_features, train_labels, test_features, test_labels)\n",
    "\n",
    "NB_acc_score_Scalar = train_and_evaluate_model(nb_model1, scaler, train_features, train_labels, test_features, test_labels)\n",
    "NB_acc_score_MinMax = train_and_evaluate_model(nb_model2, min_max_scaler, train_features, train_labels, test_features, test_labels)\n",
    "NB_acc_score_Robust = train_and_evaluate_model(nb_model3, robust_scaler, train_features, train_labels, test_features, test_labels)\n",
    "\n",
    "KNN_acc_score_Scalar = train_and_evaluate_model(knn_model1, scaler, train_features, train_labels, test_features, test_labels)\n",
    "KNN_acc_score_MinMax = train_and_evaluate_model(knn_model2, min_max_scaler, train_features, train_labels, test_features, test_labels)\n",
    "KNN_acc_score_Robust = train_and_evaluate_model(knn_model3, robust_scaler, train_features, train_labels, test_features, test_labels)\n",
    "\n",
    "SVC_acc_score_Scalar = train_and_evaluate_model(svm_svc_model1, scaler, train_features, train_labels, test_features, test_labels)\n",
    "SVC_acc_score_MinMax = train_and_evaluate_model(svm_svc_model2, min_max_scaler, train_features, train_labels, test_features, test_labels)\n",
    "SVC_acc_score_Robust = train_and_evaluate_model(svm_svc_model3, robust_scaler, train_features, train_labels, test_features, test_labels)\n",
    "\n",
    "\n",
    "\n",
    "# print it all\n",
    "model_accuracy_titanic_compare"
   ]
  },
  {
   "cell_type": "code",
   "execution_count": 90,
   "metadata": {},
   "outputs": [
    {
     "name": "stdout",
     "output_type": "stream",
     "text": [
      "('LogisticRegression - MinMaxScaler', 0.9784688995215312)\n"
     ]
    }
   ],
   "source": [
    "#For the contest ;)\n",
    "max_key_value_pair = max(model_accuracy_titanic_compare.items(), key=lambda x: x[1])\n",
    "print(max_key_value_pair)"
   ]
  },
  {
   "cell_type": "code",
   "execution_count": 91,
   "metadata": {},
   "outputs": [],
   "source": [
    "# model = LogisticRegression()\n",
    "# model2 = LogisticRegression()\n",
    "# model3 = LogisticRegression()\n",
    "\n",
    "# model.fit(train_features_Scalar, train_labels)\n",
    "# model2.fit(train_features_MinMax, train_labels)\n",
    "# model3.fit(train_features_Robust, train_labels)\n",
    "\n",
    "# # print(model.score(train_features, train_labels)) #I Switched to the metric module for accuracy_score\n",
    "# y_predict_Scalar = model.predict(test_features_Scalar)\n",
    "# y_predict_MinMax = model.predict(test_features_MinMax)\n",
    "# y_predict_Robust = model.predict(test_features_Robust)\n",
    "\n",
    "# LR_model_acc_score_Scalar = accuracy_score(test_labels, y_predict_Scalar)\n",
    "# LR_model_acc_score_MinMax = accuracy_score(test_labels, y_predict_MinMax)\n",
    "# LR_model_acc_score_Robust = accuracy_score(test_labels, y_predict_Robust)\n",
    "\n",
    "# model_accuracy_titanic_compare[\"Logistic Rregression model Scalar:\"] = LR_model_acc_score_Scalar\n",
    "# model_accuracy_titanic_compare[\"Logistic Rregression model MinMax:\"] = LR_model_acc_score_MinMax\n",
    "# model_accuracy_titanic_compare[\"Logistic Rregression model Robust:\"] = LR_model_acc_score_Robust\n",
    "# print(f\"Accuracy Scalar: {LR_model_acc_score_Scalar}\")\n",
    "# print(f\"Accuracy MinMax: {LR_model_acc_score_MinMax}\")\n",
    "# print(f\"Accuracy Robust: {LR_model_acc_score_Robust}\")"
   ]
  },
  {
   "cell_type": "code",
   "execution_count": 92,
   "metadata": {},
   "outputs": [
    {
     "name": "stdout",
     "output_type": "stream",
     "text": [
      "[0 1 0]\n",
      "[[0.8858476  0.1141524 ]\n",
      " [0.05065699 0.94934301]\n",
      " [0.75687994 0.24312006]]\n"
     ]
    },
    {
     "name": "stderr",
     "output_type": "stream",
     "text": [
      "c:\\Users\\Domenick Dobbs\\AppData\\Local\\Programs\\Python\\Python312\\Lib\\site-packages\\sklearn\\base.py:493: UserWarning: X does not have valid feature names, but StandardScaler was fitted with feature names\n",
      "  warnings.warn(\n"
     ]
    }
   ],
   "source": [
    "#I remember when I did this 2 years ago, we used Jack and Rose then ourselves to make predictions on the model and we mad ethem in a np.array\n",
    "Jack = np.array([20.0, 0.0, 0.0, 0.0, 1.0, 8.0500])\n",
    "Rose = np.array([17.0, 1.0, 1.0, 0.0, 0.0, 71.2833])\n",
    "Dom = np.array([29.0,  0.0, 0.0, 1.0, 0.0, 30.0708])\n",
    "\n",
    "passenger_predict = np.array([Jack, Rose, Dom])\n",
    "\n",
    "passenger_predict = scaler.transform(passenger_predict)\n",
    "\n",
    "#prediction time! My favorite part\n",
    "# Make survival predictions!\n",
    "print(model.predict(passenger_predict)) #This will print a 1 or 0 for surivied or did not survive \n",
    "print(model.predict_proba(passenger_predict)) #this will give us how likely for each option"
   ]
  },
  {
   "cell_type": "markdown",
   "metadata": {},
   "source": [
    "- Jack had an 88.5% of NOT surviving based on the data. \n",
    "- Rose had a 95% chance of surviving. \n",
    "- Dom would of had a 75.9% chance of NOT surviving."
   ]
  },
  {
   "cell_type": "markdown",
   "metadata": {},
   "source": [
    "# Start Decision Tree model\n"
   ]
  },
  {
   "cell_type": "code",
   "execution_count": 93,
   "metadata": {},
   "outputs": [],
   "source": [
    "# tree_model = DecisionTreeClassifier(criterion='entropy', max_depth=3)\n",
    "# #does not need normalized data\n",
    "# tree_model.fit(train_features_Scalar, train_labels)\n",
    "# y_predict = tree_model.predict(test_features_Scalar)\n",
    "\n",
    "# tree_model_acc_score = accuracy_score(test_labels, y_predict)\n",
    "# model_accuracy_titanic_compare[\"Decision Tree model:\"] = tree_model_acc_score\n",
    "# print(f\"Accuracy: {tree_model_acc_score}\")"
   ]
  },
  {
   "cell_type": "code",
   "execution_count": 94,
   "metadata": {},
   "outputs": [
    {
     "name": "stdout",
     "output_type": "stream",
     "text": [
      "[0 1 0]\n",
      "[[0.8975     0.1025    ]\n",
      " [0.02       0.98      ]\n",
      " [0.67721519 0.32278481]]\n"
     ]
    }
   ],
   "source": [
    "# passenger_predict\n",
    "print(tree_model1.predict(passenger_predict))\n",
    "print(tree_model1.predict_proba(passenger_predict))"
   ]
  },
  {
   "cell_type": "markdown",
   "metadata": {},
   "source": [
    "# Start Random Forest Classifier"
   ]
  },
  {
   "cell_type": "code",
   "execution_count": 95,
   "metadata": {},
   "outputs": [],
   "source": [
    "# RFC_model = RandomForestClassifier(n_estimators=90, criterion='gini', max_depth=5)\n",
    "\n",
    "# RFC_model.fit(train_features_Scalar, train_labels)\n",
    "\n",
    "# y_predict_RFC = RFC_model.predict(test_features_Scalar)\n",
    "\n",
    "# #Now it should of predicted if it thinks the people in the test_features dataset survived. Lets compare that to our information of their actual survival rates\n",
    "\n",
    "# rfl_acc = accuracy_score(test_labels, y_predict_RFC)\n",
    "\n",
    "# model_accuracy_titanic_compare[\"Random Forrect Classifier model:\"] = rfl_acc\n",
    "\n",
    "# print(\"Accuracy:\", accuracy_score(test_labels, y_predict_RFC))"
   ]
  },
  {
   "cell_type": "code",
   "execution_count": 96,
   "metadata": {},
   "outputs": [
    {
     "name": "stdout",
     "output_type": "stream",
     "text": [
      "[0 1 0]\n",
      "[[0.86303862 0.13696138]\n",
      " [0.06209605 0.93790395]\n",
      " [0.73819808 0.26180192]]\n"
     ]
    }
   ],
   "source": [
    "# passenger_predict\n",
    "print(RFC_model1.predict(passenger_predict))\n",
    "print(RFC_model1.predict_proba(passenger_predict))"
   ]
  },
  {
   "cell_type": "markdown",
   "metadata": {},
   "source": [
    "# Naive Bayes for Classification\n"
   ]
  },
  {
   "cell_type": "code",
   "execution_count": 97,
   "metadata": {},
   "outputs": [],
   "source": [
    "# #We should not need to do much for this one\n",
    "# nb_model = GaussianNB()\n",
    "\n",
    "# nb_model.fit(train_features_Scalar, train_labels)\n",
    "\n",
    "# y_predict_NB = nb_model.predict(test_features_Scalar)\n",
    "\n",
    "# NB_acc_score = accuracy_score(test_labels, y_predict_NB)\n",
    "# model_accuracy_titanic_compare[\"Naive Bayes Classifier model:\"] = NB_acc_score\n",
    "# print(f\"Accuracy: {NB_acc_score}\")"
   ]
  },
  {
   "cell_type": "code",
   "execution_count": 98,
   "metadata": {},
   "outputs": [
    {
     "name": "stdout",
     "output_type": "stream",
     "text": [
      "[0 1 0]\n",
      "[[0.98184197 0.01815803]\n",
      " [0.00758405 0.99241595]\n",
      " [0.8395652  0.1604348 ]]\n"
     ]
    }
   ],
   "source": [
    "# passenger_predict\n",
    "print(nb_model1.predict(passenger_predict))\n",
    "print(nb_model1.predict_proba(passenger_predict))"
   ]
  },
  {
   "cell_type": "markdown",
   "metadata": {},
   "source": [
    "# KNN"
   ]
  },
  {
   "cell_type": "code",
   "execution_count": 99,
   "metadata": {},
   "outputs": [],
   "source": [
    "# knn_model = KNeighborsClassifier(n_neighbors=2) \n",
    "\n",
    "# knn_model.fit(train_features_Scalar, train_labels)\n",
    "\n",
    "# y_predict = knn_model.predict(test_features_Scalar)\n",
    "\n",
    "# knn_acc = accuracy_score(test_labels, y_predict)\n",
    "# model_accuracy_titanic_compare[\"K Nearest Neighbor model:\"] = knn_acc\n",
    "# knn_acc"
   ]
  },
  {
   "cell_type": "code",
   "execution_count": 100,
   "metadata": {},
   "outputs": [
    {
     "name": "stdout",
     "output_type": "stream",
     "text": [
      "[0 1 0]\n",
      "[[0.66666667 0.33333333]\n",
      " [0.         1.        ]\n",
      " [1.         0.        ]]\n"
     ]
    }
   ],
   "source": [
    "print(knn_model1.predict(passenger_predict))\n",
    "print(knn_model1.predict_proba(passenger_predict))"
   ]
  },
  {
   "cell_type": "markdown",
   "metadata": {},
   "source": [
    "# Support Vector Machine - Classifer"
   ]
  },
  {
   "cell_type": "code",
   "execution_count": 101,
   "metadata": {},
   "outputs": [],
   "source": [
    "# svm_svc_model = svm.SVC(kernel='poly', C=1.5) \n",
    "\n",
    "# svm_svc_model.fit(train_features_Scalar, train_labels)\n",
    "\n",
    "# y_predict_svm = svm_svc_model.predict(test_features_Scalar)\n",
    "\n",
    "# svm_acc = accuracy_score(test_labels, y_predict_svm)\n",
    "# model_accuracy_titanic_compare[\"Support Vector Classifier model:\"] = svm_acc\n",
    "# svm_acc"
   ]
  },
  {
   "cell_type": "code",
   "execution_count": 102,
   "metadata": {},
   "outputs": [
    {
     "name": "stdout",
     "output_type": "stream",
     "text": [
      "[0 1 0]\n"
     ]
    }
   ],
   "source": [
    "print(svm_svc_model1.predict(passenger_predict))\n"
   ]
  },
  {
   "cell_type": "markdown",
   "metadata": {},
   "source": [
    "# Nueral Networks - Pytorch\n",
    "\n",
    "<a id=\"topic-2\">Pytorch</a>\n",
    "\n",
    "[Back to Top](#top)"
   ]
  },
  {
   "cell_type": "code",
   "execution_count": 103,
   "metadata": {},
   "outputs": [
    {
     "data": {
      "text/plain": [
       "'2.2.1+cpu'"
      ]
     },
     "execution_count": 103,
     "metadata": {},
     "output_type": "execute_result"
    }
   ],
   "source": [
    "#What version am I on?\n",
    "torch.__version__"
   ]
  },
  {
   "cell_type": "code",
   "execution_count": 104,
   "metadata": {},
   "outputs": [
    {
     "data": {
      "text/plain": [
       "pandas.core.series.Series"
      ]
     },
     "execution_count": 104,
     "metadata": {},
     "output_type": "execute_result"
    }
   ],
   "source": [
    "type(train_labels)"
   ]
  },
  {
   "cell_type": "code",
   "execution_count": 105,
   "metadata": {},
   "outputs": [
    {
     "data": {
      "text/html": [
       "<div>\n",
       "<style scoped>\n",
       "    .dataframe tbody tr th:only-of-type {\n",
       "        vertical-align: middle;\n",
       "    }\n",
       "\n",
       "    .dataframe tbody tr th {\n",
       "        vertical-align: top;\n",
       "    }\n",
       "\n",
       "    .dataframe thead th {\n",
       "        text-align: right;\n",
       "    }\n",
       "</style>\n",
       "<table border=\"1\" class=\"dataframe\">\n",
       "  <thead>\n",
       "    <tr style=\"text-align: right;\">\n",
       "      <th></th>\n",
       "      <th>Age</th>\n",
       "      <th>Sex_binary</th>\n",
       "      <th>Fare</th>\n",
       "    </tr>\n",
       "  </thead>\n",
       "  <tbody>\n",
       "    <tr>\n",
       "      <th>count</th>\n",
       "      <td>891.000000</td>\n",
       "      <td>891.000000</td>\n",
       "      <td>891.000000</td>\n",
       "    </tr>\n",
       "    <tr>\n",
       "      <th>mean</th>\n",
       "      <td>29.758889</td>\n",
       "      <td>0.352413</td>\n",
       "      <td>32.204208</td>\n",
       "    </tr>\n",
       "    <tr>\n",
       "      <th>std</th>\n",
       "      <td>13.002570</td>\n",
       "      <td>0.477990</td>\n",
       "      <td>49.693429</td>\n",
       "    </tr>\n",
       "    <tr>\n",
       "      <th>min</th>\n",
       "      <td>0.420000</td>\n",
       "      <td>0.000000</td>\n",
       "      <td>0.000000</td>\n",
       "    </tr>\n",
       "    <tr>\n",
       "      <th>25%</th>\n",
       "      <td>22.000000</td>\n",
       "      <td>0.000000</td>\n",
       "      <td>7.910400</td>\n",
       "    </tr>\n",
       "    <tr>\n",
       "      <th>50%</th>\n",
       "      <td>30.000000</td>\n",
       "      <td>0.000000</td>\n",
       "      <td>14.454200</td>\n",
       "    </tr>\n",
       "    <tr>\n",
       "      <th>75%</th>\n",
       "      <td>35.000000</td>\n",
       "      <td>1.000000</td>\n",
       "      <td>31.000000</td>\n",
       "    </tr>\n",
       "    <tr>\n",
       "      <th>max</th>\n",
       "      <td>80.000000</td>\n",
       "      <td>1.000000</td>\n",
       "      <td>512.329200</td>\n",
       "    </tr>\n",
       "  </tbody>\n",
       "</table>\n",
       "</div>"
      ],
      "text/plain": [
       "              Age  Sex_binary        Fare\n",
       "count  891.000000  891.000000  891.000000\n",
       "mean    29.758889    0.352413   32.204208\n",
       "std     13.002570    0.477990   49.693429\n",
       "min      0.420000    0.000000    0.000000\n",
       "25%     22.000000    0.000000    7.910400\n",
       "50%     30.000000    0.000000   14.454200\n",
       "75%     35.000000    1.000000   31.000000\n",
       "max     80.000000    1.000000  512.329200"
      ]
     },
     "execution_count": 105,
     "metadata": {},
     "output_type": "execute_result"
    }
   ],
   "source": [
    "train_features_pre_normalized = train[[\"Age\", \"Sex_binary\", \"Pclass_1\", \"Pclass_2\", \"Pclass_3\", \"Fare\"]]\n",
    "train_labels_pre_normalized = train[\"Survived\"]\n",
    "test_features_pre_normalized = test[[\"Age\", \"Sex_binary\", \"Pclass_1\", \"Pclass_2\", \"Pclass_3\", \"Fare\"]]\n",
    "test_labels_pre_normalized = gender_submission[\"Survived\"]\n",
    "train_features_pre_normalized.describe()"
   ]
  },
  {
   "cell_type": "code",
   "execution_count": 106,
   "metadata": {},
   "outputs": [],
   "source": [
    "# Remove non-numeric columns\n",
    "numeric_columns = train_features_pre_normalized.select_dtypes(include=[np.number]).columns\n",
    "train_features_pre_normalized = train_features_pre_normalized[numeric_columns]\n",
    "test_features_pre_normalized = test_features_pre_normalized[numeric_columns]\n",
    "\n",
    "# Remove rows containing NaN values\n",
    "train_features_pre_normalized = train_features_pre_normalized.dropna()\n",
    "test_features_pre_normalized = test_features_pre_normalized.dropna()\n",
    "\n",
    "# Convert data to PyTorch tensors\n",
    "train_features_pt = torch.tensor(train_features_pre_normalized.values).float()\n",
    "# train_labels = torch.tensor(train_labels_pre_normalized.values).float()\n",
    "test_features_pt = torch.tensor(test_features_pre_normalized.values).float()\n",
    "# test_labels = torch.tensor(test_labels_pre_normalized.values).float()\n",
    "\n",
    "\n",
    "# Convert labels to NumPy arrays\n",
    "train_labels_np = train_labels.values\n",
    "test_labels_np = test_labels.values\n",
    "\n",
    "# Convert to PyTorch tensors with explicit dtype\n",
    "train_labels_pt = torch.tensor(train_labels_np, dtype=torch.long)\n",
    "test_labels_pt = torch.tensor(test_labels_np, dtype=torch.long)\n",
    "\n",
    "\n",
    "# Create TensorDatasets\n",
    "train_dataset = TensorDataset(train_features_pt, train_labels_pt)\n",
    "test_dataset = TensorDataset(test_features_pt, test_labels_pt)\n",
    "\n",
    "# Create DataLoaders\n",
    "batch_size = 64\n",
    "train_loader = DataLoader(train_dataset, batch_size=batch_size, shuffle=True)\n",
    "test_loader = DataLoader(test_dataset, batch_size=batch_size, shuffle=False)\n",
    "\n"
   ]
  },
  {
   "cell_type": "code",
   "execution_count": 107,
   "metadata": {},
   "outputs": [],
   "source": [
    "class TitanicNN(nn.Module):\n",
    "    def __init__(self, input_size, hidden_size, output_size):\n",
    "        super(TitanicNN, self).__init__()\n",
    "        self.fc1 = nn.Linear(input_size, hidden_size)\n",
    "        self.relu = nn.ReLU()\n",
    "        self.fc2 = nn.Linear(hidden_size, output_size)\n",
    "    \n",
    "    def forward(self, x):\n",
    "        x = self.fc1(x)\n",
    "        x = self.relu(x)\n",
    "        x = self.fc2(x)\n",
    "        return x\n",
    "\n",
    "# Define network dimensions\n",
    "input_size = train_features_pt.shape[1]\n",
    "hidden_size = 10  # You can adjust this\n",
    "output_size = 2  # Two classes: Survived or Not Survived\n",
    "\n",
    "# Create the network\n",
    "PyTorchmodel = TitanicNN(input_size, hidden_size, output_size)\n"
   ]
  },
  {
   "cell_type": "code",
   "execution_count": 108,
   "metadata": {},
   "outputs": [],
   "source": [
    "criterion = nn.CrossEntropyLoss()\n",
    "optimizer = optim.Adam(PyTorchmodel.parameters(), lr=0.001)\n"
   ]
  },
  {
   "cell_type": "code",
   "execution_count": 109,
   "metadata": {},
   "outputs": [
    {
     "name": "stdout",
     "output_type": "stream",
     "text": [
      "Epoch 1/100, Loss: 2.4170202357428416\n",
      "Epoch 2/100, Loss: 1.3240787642342704\n",
      "Epoch 3/100, Loss: 0.7921103281634194\n",
      "Epoch 4/100, Loss: 0.6619326600006649\n",
      "Epoch 5/100, Loss: 0.6593211591243744\n",
      "Epoch 6/100, Loss: 0.647980523960931\n",
      "Epoch 7/100, Loss: 0.6445003279617855\n",
      "Epoch 8/100, Loss: 0.6375308419976916\n",
      "Epoch 9/100, Loss: 0.6332883238792419\n",
      "Epoch 10/100, Loss: 0.6316241834844861\n",
      "Epoch 11/100, Loss: 0.6282435400145394\n",
      "Epoch 12/100, Loss: 0.6274758066449847\n",
      "Epoch 13/100, Loss: 0.6264613483633313\n",
      "Epoch 14/100, Loss: 0.6231770707028252\n",
      "Epoch 15/100, Loss: 0.6195553072861263\n",
      "Epoch 16/100, Loss: 0.6182259363787515\n",
      "Epoch 17/100, Loss: 0.6201356479099819\n",
      "Epoch 18/100, Loss: 0.6179633225713458\n",
      "Epoch 19/100, Loss: 0.6134806615965707\n",
      "Epoch 20/100, Loss: 0.6124132403305599\n",
      "Epoch 21/100, Loss: 0.6115183063915798\n",
      "Epoch 22/100, Loss: 0.6111692828791482\n",
      "Epoch 23/100, Loss: 0.6075812833649772\n"
     ]
    },
    {
     "name": "stdout",
     "output_type": "stream",
     "text": [
      "Epoch 24/100, Loss: 0.6044301624808993\n",
      "Epoch 25/100, Loss: 0.6043301607881274\n",
      "Epoch 26/100, Loss: 0.6038920794214521\n",
      "Epoch 27/100, Loss: 0.5991562221731458\n",
      "Epoch 28/100, Loss: 0.5988135635852814\n",
      "Epoch 29/100, Loss: 0.5993608555623463\n",
      "Epoch 30/100, Loss: 0.5972783182348523\n",
      "Epoch 31/100, Loss: 0.595323349748339\n",
      "Epoch 32/100, Loss: 0.5952563881874084\n",
      "Epoch 33/100, Loss: 0.5917621595518929\n",
      "Epoch 34/100, Loss: 0.5880616136959621\n",
      "Epoch 35/100, Loss: 0.5865606367588043\n",
      "Epoch 36/100, Loss: 0.5838941037654877\n",
      "Epoch 37/100, Loss: 0.5834374598094395\n",
      "Epoch 38/100, Loss: 0.5830184902463641\n",
      "Epoch 39/100, Loss: 0.5872084540980202\n",
      "Epoch 40/100, Loss: 0.5816312730312347\n",
      "Epoch 41/100, Loss: 0.576059028506279\n",
      "Epoch 42/100, Loss: 0.5765619959150042\n",
      "Epoch 43/100, Loss: 0.5728189519473484\n",
      "Epoch 44/100, Loss: 0.578042168702398\n",
      "Epoch 45/100, Loss: 0.5741406977176666\n",
      "Epoch 46/100, Loss: 0.5682668281452996\n",
      "Epoch 47/100, Loss: 0.5711194808994021\n",
      "Epoch 48/100, Loss: 0.571819103189877\n",
      "Epoch 49/100, Loss: 0.5622248819896153\n",
      "Epoch 50/100, Loss: 0.5612806848117283\n",
      "Epoch 51/100, Loss: 0.5608629307576588\n",
      "Epoch 52/100, Loss: 0.5588880670922143\n",
      "Epoch 53/100, Loss: 0.5597373502595084\n",
      "Epoch 54/100, Loss: 0.5556459043707166\n",
      "Epoch 55/100, Loss: 0.553838985306876\n",
      "Epoch 56/100, Loss: 0.5506876174892698\n",
      "Epoch 57/100, Loss: 0.5495543692793164\n",
      "Epoch 58/100, Loss: 0.5484268409865243\n",
      "Epoch 59/100, Loss: 0.5472228314195361\n",
      "Epoch 60/100, Loss: 0.5502951783793313\n",
      "Epoch 61/100, Loss: 0.5460096427372524\n",
      "Epoch 62/100, Loss: 0.5490465653794152\n",
      "Epoch 63/100, Loss: 0.5400498700993401\n",
      "Epoch 64/100, Loss: 0.5386854325022016\n",
      "Epoch 65/100, Loss: 0.5390317099434989\n",
      "Epoch 66/100, Loss: 0.5372141152620316\n",
      "Epoch 67/100, Loss: 0.5360295070069176\n",
      "Epoch 68/100, Loss: 0.532783819096429\n",
      "Epoch 69/100, Loss: 0.5330737978219986\n",
      "Epoch 70/100, Loss: 0.5286807204995837\n",
      "Epoch 71/100, Loss: 0.5305759800331933\n",
      "Epoch 72/100, Loss: 0.5295092016458511\n",
      "Epoch 73/100, Loss: 0.5255609729460308\n",
      "Epoch 74/100, Loss: 0.5260275495903832\n",
      "Epoch 75/100, Loss: 0.5226858939443316\n",
      "Epoch 76/100, Loss: 0.5218264652150018\n",
      "Epoch 77/100, Loss: 0.5229433923959732\n",
      "Epoch 78/100, Loss: 0.5216764573540006\n",
      "Epoch 79/100, Loss: 0.516708242041724\n",
      "Epoch 80/100, Loss: 0.5184834833656039\n",
      "Epoch 81/100, Loss: 0.5153007975646428\n",
      "Epoch 82/100, Loss: 0.5145374238491058\n",
      "Epoch 83/100, Loss: 0.5126648332391467\n",
      "Epoch 84/100, Loss: 0.5122343450784683\n",
      "Epoch 85/100, Loss: 0.5108029437916619\n",
      "Epoch 86/100, Loss: 0.5112645881516593\n",
      "Epoch 87/100, Loss: 0.5096734932490757\n",
      "Epoch 88/100, Loss: 0.5062983270202365\n",
      "Epoch 89/100, Loss: 0.5135830853666578\n",
      "Epoch 90/100, Loss: 0.5101062868322644\n",
      "Epoch 91/100, Loss: 0.5067798963614872\n",
      "Epoch 92/100, Loss: 0.5032517739704677\n",
      "Epoch 93/100, Loss: 0.5082658955029079\n",
      "Epoch 94/100, Loss: 0.5058042492185321\n",
      "Epoch 95/100, Loss: 0.5029958188533783\n",
      "Epoch 96/100, Loss: 0.5004790446587971\n",
      "Epoch 97/100, Loss: 0.4989914319344929\n",
      "Epoch 98/100, Loss: 0.5004084472145353\n",
      "Epoch 99/100, Loss: 0.49949987658432554\n",
      "Epoch 100/100, Loss: 0.49801098448889597\n"
     ]
    }
   ],
   "source": [
    "num_epochs = 100  # adjust this\n",
    "losses = []\n",
    "\n",
    "for epoch in range(num_epochs):\n",
    "    epoch_loss = 0\n",
    "    for inputs, labels in train_loader:\n",
    "        optimizer.zero_grad()\n",
    "        outputs = PyTorchmodel(inputs)\n",
    "        loss = criterion(outputs, labels)\n",
    "        loss.backward()\n",
    "        optimizer.step()\n",
    "        epoch_loss += loss.item()\n",
    "    \n",
    "    epoch_loss /= len(train_loader)\n",
    "    losses.append(epoch_loss)\n",
    "    print(f'Epoch {epoch+1}/{num_epochs}, Loss: {epoch_loss}')\n"
   ]
  },
  {
   "cell_type": "code",
   "execution_count": 110,
   "metadata": {},
   "outputs": [
    {
     "data": {
      "image/png": "[encoded data removed]",
      "text/plain": [
       "<Figure size 640x480 with 1 Axes>"
      ]
     },
     "metadata": {},
     "output_type": "display_data"
    }
   ],
   "source": [
    "plt.plot(range(1, num_epochs+1), losses)\n",
    "plt.xlabel('Epoch')\n",
    "plt.ylabel('Loss')\n",
    "plt.title('Loss vs. Epoch')\n",
    "plt.show()\n"
   ]
  },
  {
   "cell_type": "code",
   "execution_count": 111,
   "metadata": {},
   "outputs": [
    {
     "name": "stdout",
     "output_type": "stream",
     "text": [
      "Accuracy on test set: 90.66985645933015%\n"
     ]
    }
   ],
   "source": [
    "PyTorchmodel.eval()\n",
    "correct = 0\n",
    "total = 0\n",
    "\n",
    "with torch.no_grad():\n",
    "    for inputs, labels in test_loader:\n",
    "        outputs = PyTorchmodel(inputs)\n",
    "        _, predicted = torch.max(outputs.data, 1)\n",
    "        total += labels.size(0)\n",
    "        correct += (predicted == labels).sum().item()\n",
    "\n",
    "accuracy = correct / total\n",
    "model_accuracy_titanic_compare[\"Pytorch Neural Network model:\"] = accuracy\n",
    "print(f'Accuracy on test set: {accuracy * 100}%')\n"
   ]
  },
  {
   "cell_type": "code",
   "execution_count": 112,
   "metadata": {},
   "outputs": [],
   "source": [
    "# #Predict time!!\n",
    "\n",
    "# passenger_predict_tensor = torch.tensor(passenger_predict).float()\n",
    "\n",
    "# with torch.no_grad():\n",
    "#     outputs = PyTorchmodel(passenger_predict_tensor)\n",
    "#     probabilities = torch.softmax(outputs, dim=1)\n",
    "#     predictions = torch.argmax(probabilities, dim=1)"
   ]
  },
  {
   "cell_type": "code",
   "execution_count": 113,
   "metadata": {},
   "outputs": [],
   "source": [
    "# # Set the PyTorchmodel to evaluation mode\n",
    "# PyTorchmodel.eval()\n",
    "\n",
    "# # Make predictions\n",
    "# with torch.no_grad():\n",
    "#     outputs = PyTorchmodel(passenger_predict_tensor)\n",
    "#     probabilities = torch.softmax(outputs, dim=1)\n",
    "#     predictions = torch.argmax(probabilities, dim=1)\n",
    "\n",
    "# # Convert predictions and probabilities to numpy arrays for easy printing\n",
    "# predictions_np = predictions.tolist()\n",
    "# probabilities_np = probabilities.tolist()\n",
    "\n",
    "# # Print results\n",
    "# print(predictions_np)\n",
    "# probabilities_np\n"
   ]
  },
  {
   "cell_type": "markdown",
   "metadata": {},
   "source": [
    "<a id=\"topic-1\">Tensorflow</a> \n",
    "\n",
    "[Back to Top](#top)\n"
   ]
  },
  {
   "cell_type": "code",
   "execution_count": 114,
   "metadata": {},
   "outputs": [],
   "source": [
    "# Convert data to TensorFlow tensors\n",
    "train_features_tf = tf.convert_to_tensor(train_features.values, dtype=tf.float32)\n",
    "train_labels_tf = tf.convert_to_tensor(train_labels.values, dtype=tf.int64)\n",
    "test_features_tf = tf.convert_to_tensor(test_features.values, dtype=tf.float32)\n",
    "test_labels_tf = tf.convert_to_tensor(test_labels.values, dtype=tf.int64)\n",
    "\n",
    "# Define network dimensions\n",
    "input_size = train_features_pt.shape[1]\n",
    "hidden_size = 12  # You can adjust this\n",
    "output_size = 2  # Two classes: Survived or Not Survived\n"
   ]
  },
  {
   "cell_type": "code",
   "execution_count": 115,
   "metadata": {},
   "outputs": [
    {
     "name": "stderr",
     "output_type": "stream",
     "text": [
      "c:\\Users\\Domenick Dobbs\\AppData\\Local\\Programs\\Python\\Python312\\Lib\\site-packages\\keras\\src\\layers\\core\\dense.py:85: UserWarning: Do not pass an `input_shape`/`input_dim` argument to a layer. When using Sequential models, prefer using an `Input(shape)` object as the first layer in the model instead.\n",
      "  super().__init__(activity_regularizer=activity_regularizer, **kwargs)\n"
     ]
    }
   ],
   "source": [
    "# make the nn\n",
    "model_tf = models.Sequential([\n",
    "    layers.Dense(hidden_size, activation='relu', input_shape=(input_size,)),\n",
    "    layers.Dense(output_size, activation='softmax')\n",
    "])\n",
    "\n",
    "# model_tf = models.Sequential([\n",
    "#     layers.Dense(hidden_size, activation='relu', input_shape=(input_size,), kernel_regularizer='l2'),\n",
    "#     layers.Dropout(0.3), \n",
    "#     layers.Dense(16, activation='relu', kernel_regularizer='l2'), \n",
    "#     layers.Dense(output_size, activation='softmax')\n",
    "# ])\n"
   ]
  },
  {
   "cell_type": "code",
   "execution_count": 116,
   "metadata": {},
   "outputs": [],
   "source": [
    "# compile the model here\n",
    "# model_tf.compile(optimizer='adam',\n",
    "#                 loss='sparse_categorical_crossentropy',\n",
    "#                 metrics=['accuracy'])\n",
    "\n",
    "# model_tf.compile(optimizer=tf.keras.optimizers.Adam(learning_rate=0.0001),\n",
    "#                 loss=tf.keras.losses.SparseCategoricalCrossentropy(),  # Assuming labels are not one-hot encoded\n",
    "#                 metrics=['accuracy'])\n"
   ]
  },
  {
   "cell_type": "code",
   "execution_count": 117,
   "metadata": {},
   "outputs": [],
   "source": [
    "#model train\n",
    "# history = model_tf.fit(train_features_tf, train_labels_tf, epochs=200, batch_size=batch_size, verbose=1)\n"
   ]
  },
  {
   "cell_type": "code",
   "execution_count": 118,
   "metadata": {},
   "outputs": [],
   "source": [
    "# loss, accuracy = model_tf.evaluate(test_features_tf, test_labels_tf)\n",
    "# model_accuracy_titanic_compare[\"Tensorflow Neural Network model:\"] = accuracy\n",
    "# print(f'Accuracy on test set: {accuracy}')\n"
   ]
  },
  {
   "cell_type": "code",
   "execution_count": 119,
   "metadata": {},
   "outputs": [],
   "source": [
    "# passenger_predict_tf = tf.convert_to_tensor(passenger_predict, dtype=tf.float32)\n",
    "# predictions_tf = model_tf.predict(passenger_predict_tf)\n",
    "# predicted_classes_tf = tf.argmax(predictions_tf, axis=1).numpy()\n",
    "\n",
    "# print(predicted_classes_tf)\n",
    "# print(predictions_tf)\n"
   ]
  },
  {
   "cell_type": "code",
   "execution_count": 120,
   "metadata": {},
   "outputs": [],
   "source": [
    "# model_accuracy_titanic_compare"
   ]
  },
  {
   "cell_type": "markdown",
   "metadata": {},
   "source": [
    "<a id=\"topic-3\">Visualizatons</a>\n",
    "\n",
    "[Back to Top](#top)"
   ]
  },
  {
   "cell_type": "code",
   "execution_count": 121,
   "metadata": {},
   "outputs": [],
   "source": [
    "from sklearn.base import clone\n",
    "from itertools import combinations\n",
    "import numpy as np\n",
    "from sklearn.metrics import accuracy_score\n",
    "from sklearn.model_selection import train_test_split\n",
    "\n",
    "\n",
    "class SBS:\n",
    "    def __init__(self, estimator, k_features, scoring=accuracy_score,\n",
    "                 test_size=0.25, random_state=1):\n",
    "        self.scoring = scoring\n",
    "        self.estimator = clone(estimator)\n",
    "        self.k_features = k_features\n",
    "        self.test_size = test_size\n",
    "        self.random_state = random_state\n",
    "\n",
    "    def fit(self, X, y):\n",
    "        \n",
    "        X_train, X_test, y_train, y_test = \\\n",
    "            train_test_split(X, y, test_size=self.test_size,\n",
    "                             random_state=self.random_state)\n",
    "\n",
    "        dim = X_train.shape[1]\n",
    "        self.indices_ = tuple(range(dim))\n",
    "        self.subsets_ = [self.indices_]\n",
    "        score = self._calc_score(X_train, y_train, \n",
    "                                 X_test, y_test, self.indices_)\n",
    "        self.scores_ = [score]\n",
    "\n",
    "        while dim > self.k_features:\n",
    "            scores = []\n",
    "            subsets = []\n",
    "\n",
    "            for p in combinations(self.indices_, r=dim - 1):\n",
    "                score = self._calc_score(X_train, y_train, \n",
    "                                         X_test, y_test, p)\n",
    "                scores.append(score)\n",
    "                subsets.append(p)\n",
    "\n",
    "            best = np.argmax(scores)\n",
    "            self.indices_ = subsets[best]\n",
    "            self.subsets_.append(self.indices_)\n",
    "            dim -= 1\n",
    "\n",
    "            self.scores_.append(scores[best])\n",
    "        self.k_score_ = self.scores_[-1]\n",
    "\n",
    "        return self\n",
    "\n",
    "    def transform(self, X):\n",
    "        return X[:, self.indices_]\n",
    "\n",
    "    def _calc_score(self, X_train, y_train, X_test, y_test, indices):\n",
    "        self.estimator.fit(X_train[:, indices], y_train)\n",
    "        y_pred = self.estimator.predict(X_test[:, indices])\n",
    "        score = self.scoring(y_test, y_pred)\n",
    "        return score"
   ]
  },
  {
   "cell_type": "code",
   "execution_count": 125,
   "metadata": {},
   "outputs": [],
   "source": [
    "scaler = StandardScaler()\n",
    "min_max_scaler = MinMaxScaler()\n",
    "robust_scaler = RobustScaler()\n",
    "X_train_std_scalar = scaler.fit_transform(train_features)\n",
    "X_train_std_minMax = min_max_scaler.fit_transform(train_features)\n",
    "X_train_std_Robust = robust_scaler.fit_transform(train_features)\n"
   ]
  },
  {
   "cell_type": "code",
   "execution_count": 126,
   "metadata": {},
   "outputs": [
    {
     "data": {
      "image/png": "[encoded data removed]",
      "text/plain": [
       "<Figure size 640x480 with 1 Axes>"
      ]
     },
     "metadata": {},
     "output_type": "display_data"
    }
   ],
   "source": [
    "import matplotlib.pyplot as plt\n",
    "from sklearn.neighbors import KNeighborsClassifier\n",
    "\n",
    "knn = KNeighborsClassifier(n_neighbors=5)\n",
    "\n",
    "# selecting features\n",
    "sbs = SBS(knn, k_features=1)\n",
    "sbs.fit(X_train_std_scalar, train_labels)\n",
    "\n",
    "# plotting performance of feature subsets\n",
    "k_feat = [len(k) for k in sbs.subsets_]\n",
    "\n",
    "plt.plot(k_feat, sbs.scores_, marker='o')\n",
    "plt.ylim([0.7, 1.02])\n",
    "plt.ylabel('Accuracy')\n",
    "plt.xlabel('Number of features')\n",
    "plt.grid()\n",
    "plt.tight_layout()\n",
    "# plt.savefig('figures/04_09.png', dpi=300)\n",
    "plt.show()"
   ]
  },
  {
   "cell_type": "code",
   "execution_count": 128,
   "metadata": {},
   "outputs": [],
   "source": [
    "from sklearn.ensemble import RandomForestClassifier\n",
    "\n",
    "feat_labels = train.columns[1:]\n",
    "\n",
    "forest = RandomForestClassifier(n_estimators=500,\n",
    "                                random_state=1)\n",
    "\n",
    "forest.fit(X_train_std_scalar, train_labels)\n",
    "importances = forest.feature_importances_\n",
    "\n",
    "indices = np.argsort(importances)[::-1]\n"
   ]
  },
  {
   "cell_type": "code",
   "execution_count": 129,
   "metadata": {},
   "outputs": [
    {
     "name": "stdout",
     "output_type": "stream",
     "text": [
      " 1) Pclass_1                       0.330163\n",
      " 2) Survived                       0.291662\n",
      " 3) Age                            0.274539\n",
      " 4) Fare                           0.058431\n",
      " 5) SibSp                          0.029921\n",
      " 6) Parch                          0.015283\n"
     ]
    },
    {
     "data": {
      "image/png": "[encoded data removed]",
      "text/plain": [
       "<Figure size 640x480 with 1 Axes>"
      ]
     },
     "metadata": {},
     "output_type": "display_data"
    }
   ],
   "source": [
    "for f in range(X_train_std_scalar.shape[1]):\n",
    "    print(\"%2d) %-*s %f\" % (f + 1, 30, \n",
    "                            feat_labels[indices[f]], \n",
    "                            importances[indices[f]]))\n",
    "\n",
    "plt.title('Feature importance')\n",
    "plt.bar(range(X_train_std_scalar.shape[1]), \n",
    "        importances[indices],\n",
    "        align='center')\n",
    "\n",
    "plt.xticks(range(X_train_std_scalar.shape[1]), \n",
    "           feat_labels[indices], rotation=90)\n",
    "plt.xlim([-1, X_train_std_scalar.shape[1]])\n",
    "plt.tight_layout()\n",
    "# plt.savefig('figures/04_10.png', dpi=300)\n",
    "plt.show()"
   ]
  }
 ],
 "metadata": {
  "kernelspec": {
   "display_name": "Python 3",
   "language": "python",
   "name": "python3"
  },
  "language_info": {
   "codemirror_mode": {
    "name": "ipython",
    "version": 3
   },
   "file_extension": ".py",
   "mimetype": "text/x-python",
   "name": "python",
   "nbconvert_exporter": "python",
   "pygments_lexer": "ipython3",
   "version": "3.12.2"
  }
 },
 "nbformat": 4,
 "nbformat_minor": 2
}
