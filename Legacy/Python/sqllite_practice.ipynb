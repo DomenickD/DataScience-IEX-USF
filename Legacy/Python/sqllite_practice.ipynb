{
 "cells": [
  {
   "cell_type": "markdown",
   "metadata": {},
   "source": [
    "# SQLite practice\n",
    "\n",
    "- currently not working. Need to find time to debug\n",
    "\n",
    "DB Browser for SQLite3"
   ]
  },
  {
   "cell_type": "code",
   "execution_count": 18,
   "metadata": {},
   "outputs": [],
   "source": [
    "import sqlite3"
   ]
  },
  {
   "cell_type": "code",
   "execution_count": 19,
   "metadata": {},
   "outputs": [],
   "source": [
    "connect = sqlite3.connect('starter_database.db')"
   ]
  },
  {
   "cell_type": "code",
   "execution_count": 20,
   "metadata": {},
   "outputs": [],
   "source": [
    "#now it says I should create a cursor\n",
    "cursor = connect.cursor()"
   ]
  },
  {
   "cell_type": "code",
   "execution_count": 21,
   "metadata": {},
   "outputs": [
    {
     "data": {
      "text/plain": [
       "<sqlite3.Cursor at 0x1e9576d0b40>"
      ]
     },
     "execution_count": 21,
     "metadata": {},
     "output_type": "execute_result"
    }
   ],
   "source": [
    "cursor.execute('''\n",
    "    CREATE TABLE IF NOT EXISTS toDoList (\n",
    "        id INTEGER PRIMARY KEY AUTOINCREMENT,\n",
    "        task_name VARCHAR(128),\n",
    "        completed BOOLEAN\n",
    "    )\n",
    "''')"
   ]
  },
  {
   "cell_type": "code",
   "execution_count": 22,
   "metadata": {},
   "outputs": [],
   "source": [
    "cursor.execute('''INSERT INTO toDoList (task_name, completed) \n",
    "    VALUES \n",
    "        ('practice SQLite', False), \n",
    "        ('finish next IDS class ', False),\n",
    "        ('Dive into Linear Algebra', False)\n",
    "    ''')\n",
    "connect.commit()  # save changes or it doesnt count"
   ]
  },
  {
   "cell_type": "code",
   "execution_count": 23,
   "metadata": {},
   "outputs": [
    {
     "name": "stdout",
     "output_type": "stream",
     "text": [
      "[(1, 'practice SQLite', 0), (2, 'finish next IDS class ', 0), (3, 'Dive into Linear Algebra', 0), (4, 'practice SQLite', 0), (5, 'finish next IDS class ', 0), (6, 'Dive into Linear Algebra', 0), (7, 'practice SQLite', 0), (8, 'finish next IDS class ', 0), (9, 'Dive into Linear Algebra', 0), (10, 'practice SQLite', 0), (11, 'finish next IDS class ', 0), (12, 'Dive into Linear Algebra', 0)]\n"
     ]
    }
   ],
   "source": [
    "\n",
    "cursor.execute(\"\"\"SELECT * \n",
    "               FROM toDoList\"\"\")\n",
    "results = cursor.fetchall()\n",
    "\n",
    "print(results)"
   ]
  },
  {
   "cell_type": "code",
   "execution_count": 24,
   "metadata": {},
   "outputs": [],
   "source": [
    "cursor.execute(\"UPDATE toDoList SET completed = True WHERE id = 1\")\n",
    "connect.commit()"
   ]
  },
  {
   "cell_type": "code",
   "execution_count": 25,
   "metadata": {},
   "outputs": [],
   "source": [
    "cursor.execute(\"DELETE FROM toDoList WHERE id = 3\")\n",
    "connect.commit()"
   ]
  },
  {
   "cell_type": "code",
   "execution_count": 26,
   "metadata": {},
   "outputs": [
    {
     "data": {
      "text/plain": [
       "<sqlite3.Cursor at 0x1e95763fbc0>"
      ]
     },
     "execution_count": 26,
     "metadata": {},
     "output_type": "execute_result"
    }
   ],
   "source": [
    "cursor.execute(\"CREATE INDEX idx_task_name ON toDoList(task_name)\")\n"
   ]
  },
  {
   "cell_type": "code",
   "execution_count": 27,
   "metadata": {},
   "outputs": [
    {
     "name": "stdout",
     "output_type": "stream",
     "text": [
      "[('practice SQLite', 'Personal'), ('finish next IDS class ', 'Work')]\n"
     ]
    }
   ],
   "source": [
    "cursor.execute('''\n",
    "    CREATE TABLE IF NOT EXISTS Categories (\n",
    "        id INTEGER PRIMARY KEY AUTOINCREMENT,\n",
    "        category_name VARCHAR(128)\n",
    "    )\n",
    "''')\n",
    "cursor.execute(\"INSERT INTO Categories (category_name) VALUES ('Personal'), ('Work')\")\n",
    "cursor.execute('''\n",
    "    SELECT toDoList.task_name, Categories.category_name\n",
    "    FROM toDoList\n",
    "    JOIN Categories ON toDoList.id = Categories.id\n",
    "''')\n",
    "print(cursor.fetchall())\n"
   ]
  },
  {
   "cell_type": "code",
   "execution_count": 28,
   "metadata": {},
   "outputs": [
    {
     "name": "stdout",
     "output_type": "stream",
     "text": [
      "(1,)\n"
     ]
    }
   ],
   "source": [
    "cursor.execute(\"SELECT COUNT(*) FROM toDoList WHERE completed = True\")\n",
    "print(cursor.fetchone())\n"
   ]
  }
 ],
 "metadata": {
  "kernelspec": {
   "display_name": "Python 3",
   "language": "python",
   "name": "python3"
  },
  "language_info": {
   "codemirror_mode": {
    "name": "ipython",
    "version": 3
   },
   "file_extension": ".py",
   "mimetype": "text/x-python",
   "name": "python",
   "nbconvert_exporter": "python",
   "pygments_lexer": "ipython3",
   "version": "3.10.5"
  }
 },
 "nbformat": 4,
 "nbformat_minor": 2
}
