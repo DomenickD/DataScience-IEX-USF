{
 "cells": [
  {
   "cell_type": "markdown",
   "metadata": {},
   "source": [
    "# Python Practice\n",
    "\n",
    "Author: Domenick Dobbs\n",
    "\n",
    "Please use this to learn. "
   ]
  },
  {
   "cell_type": "markdown",
   "metadata": {},
   "source": [
    "### 1. Let's start with declaing a variable. Easy enough, right? Declare two variables named \"num1\" and \"num2\" and assign it any numbers you like. Then print out both numbers with print statements."
   ]
  },
  {
   "cell_type": "code",
   "execution_count": 6,
   "metadata": {},
   "outputs": [
    {
     "name": "stdout",
     "output_type": "stream",
     "text": [
      "Number one is: 1 \n",
      "Number two is: 2\n"
     ]
    }
   ],
   "source": []
  },
  {
   "cell_type": "markdown",
   "metadata": {},
   "source": [
    "### Now we will perform operations on these numbers. Still super easy, right? Print out the 2 numbers sum, difference, product, quotient and modulo(remainder after division). "
   ]
  },
  {
   "cell_type": "code",
   "execution_count": 7,
   "metadata": {},
   "outputs": [
    {
     "name": "stdout",
     "output_type": "stream",
     "text": [
      "The sum is: 3\n",
      "The difference is: -1\n",
      "The product is: 2\n",
      "The quotient whole number is: 0.5\n",
      "The quotient remainder is: 1\n"
     ]
    }
   ],
   "source": []
  },
  {
   "cell_type": "markdown",
   "metadata": {},
   "source": [
    "Now let's start having fun. Define a function that returns all of the above (sum, difference, product, quotient and modulo(remainder after division)). It will accept to variables as input. Afterwards, skip a line the call the function to see if it works. It should match the output of the previous step."
   ]
  },
  {
   "cell_type": "code",
   "execution_count": 9,
   "metadata": {},
   "outputs": [
    {
     "name": "stdout",
     "output_type": "stream",
     "text": [
      "The sum is: 3\n",
      "The difference is: -1\n",
      "The product is: 2\n",
      "The quotient whole number is: 0.5\n",
      "The quotient remainder is: 1\n"
     ]
    }
   ],
   "source": []
  },
  {
   "cell_type": "markdown",
   "metadata": {},
   "source": [
    "---\n",
    "\n",
    "**Remember, making anything into a function is a great way to save on lines of code so you do not have to do repetitve tasks. When possible, try to include all function declarations at the top of your project to make it easier to see and debug.**\n",
    "\n",
    "---"
   ]
  },
  {
   "cell_type": "markdown",
   "metadata": {},
   "source": [
    "### Now we will start on loops. Define a while loop that prints all numbers 1-10 inclusive."
   ]
  },
  {
   "cell_type": "code",
   "execution_count": 10,
   "metadata": {},
   "outputs": [
    {
     "name": "stdout",
     "output_type": "stream",
     "text": [
      "1\n",
      "2\n",
      "3\n",
      "4\n",
      "5\n",
      "6\n",
      "7\n",
      "8\n",
      "9\n",
      "10\n"
     ]
    }
   ],
   "source": []
  },
  {
   "cell_type": "markdown",
   "metadata": {},
   "source": [
    "### Now lets do this in a for loop. This should be less code. Use the python built in \"range\" function here."
   ]
  },
  {
   "cell_type": "code",
   "execution_count": 11,
   "metadata": {},
   "outputs": [
    {
     "name": "stdout",
     "output_type": "stream",
     "text": [
      "1\n",
      "2\n",
      "3\n",
      "4\n",
      "5\n",
      "6\n",
      "7\n",
      "8\n",
      "9\n",
      "10\n"
     ]
    }
   ],
   "source": []
  },
  {
   "cell_type": "markdown",
   "metadata": {},
   "source": [
    "### Now perform a while loop that performs until there is a \"break\" command. Define the \"break command in a conditional \"if\" statement after printing all numbers 1- 10. "
   ]
  },
  {
   "cell_type": "code",
   "execution_count": 12,
   "metadata": {},
   "outputs": [
    {
     "name": "stdout",
     "output_type": "stream",
     "text": [
      "1\n",
      "2\n",
      "3\n",
      "4\n",
      "5\n",
      "6\n",
      "7\n",
      "8\n",
      "9\n",
      "10\n"
     ]
    }
   ],
   "source": []
  },
  {
   "cell_type": "markdown",
   "metadata": {},
   "source": [
    "### That last one was more of a bridge to this next topic. Conditional statements. In this next code block, I want you to imagine the weather. assign a variable \"is_raining\" to the boolean value of TRUE or FALSE. Then use and if .. else statement to print out if it is raining or not depending on what the variable says. if \"is_raining\" is TRUE, print that it is raining. else, just print the weather is sunny. "
   ]
  },
  {
   "cell_type": "code",
   "execution_count": 13,
   "metadata": {},
   "outputs": [
    {
     "name": "stdout",
     "output_type": "stream",
     "text": [
      "Grab your umbrella!\n"
     ]
    }
   ],
   "source": []
  },
  {
   "cell_type": "markdown",
   "metadata": {},
   "source": [
    "### Now this next one is more advanced. Turn the conditioan statement above into a lambda function on one line. Then call the lambda function in a print statement twice, one with the \"TRUE\" and one with the \"FALSE\".\n",
    "\n",
    "[See about Lambda functions here](https://www.geeksforgeeks.org/python-lambda-anonymous-functions-filter-map-reduce/#)"
   ]
  },
  {
   "cell_type": "code",
   "execution_count": 16,
   "metadata": {},
   "outputs": [
    {
     "name": "stdout",
     "output_type": "stream",
     "text": [
      "Grab your umbrella!\n",
      "Enjoy the sunshine!\n"
     ]
    }
   ],
   "source": []
  },
  {
   "cell_type": "markdown",
   "metadata": {},
   "source": [
    "### Well done making it this far!\n",
    "\n",
    "Let's start working on some class declarations. This is going to much longer because we will start going over the 4 pillars of Object Oriented Programming (OOP).\n",
    "\n",
    "First, I will present my own example. \n",
    "\n",
    "---\n",
    "\n",
    "1. Inheritance:\n",
    "\n",
    "Dog and Cat are child classes that inherit common attributes and behaviors (name, sound, speak) from the parent class Animal.\n",
    "This promotes code reusability and a hierarchical structure.\n",
    "\n",
    "2. Encapsulation:\n",
    "\n",
    "The constructor __init__ encapsulates the data (name, sound) within each object.\n",
    "_sound is a protected attribute (convention), suggesting internal use but accessible by subclasses.\n",
    "\n",
    "3. Polymorphism:\n",
    "\n",
    "Both Dog and Cat have their own unique speak method, overriding the parent's implementation.\n",
    "When you call speak, the appropriate sound is produced based on the object's type (Dog or Cat).\n",
    "\n",
    "4. Abstraction:\n",
    "\n",
    "We interact with my_dog and my_cat through their common interface (speak), hiding the internal complexity of how they make sounds."
   ]
  },
  {
   "cell_type": "code",
   "execution_count": 17,
   "metadata": {},
   "outputs": [
    {
     "name": "stdout",
     "output_type": "stream",
     "text": [
      "Buddy says Woof!\n",
      "I'm a Golden Retriever\n",
      "Whiskers says Meow!\n"
     ]
    }
   ],
   "source": [
    "class Animal:  # Parent Class (Inheritance)\n",
    "    def __init__(self, name, sound):  # Constructor (Encapsulation)\n",
    "        self.name = name\n",
    "        self._sound = sound  # Protected attribute (Encapsulation)\n",
    "\n",
    "    def speak(self):  # Polymorphism\n",
    "        print(f\"{self.name} says {self._sound}\")\n",
    "\n",
    "class Dog(Animal):  # Child Class (Inheritance)\n",
    "    def __init__(self, name, breed):\n",
    "        super().__init__(name, \"Woof!\")  # Inheriting from Animal\n",
    "        self.breed = breed\n",
    "\n",
    "    def speak(self):  # Overriding speak() (Polymorphism)\n",
    "        super().speak() \n",
    "        print(f\"I'm a {self.breed}\")\n",
    "\n",
    "class Cat(Animal):  # Another Child Class (Inheritance)\n",
    "    def __init__(self, name, color):\n",
    "        super().__init__(name, \"Meow!\")  # Inheriting from Animal\n",
    "        self.color = color\n",
    "\n",
    "# Create Animal Objects (Abstraction)\n",
    "my_dog = Dog(\"Buddy\", \"Golden Retriever\")\n",
    "my_cat = Cat(\"Whiskers\", \"Gray\")\n",
    "\n",
    "# Let's hear them speak! (Polymorphism)\n",
    "my_dog.speak()\n",
    "my_cat.speak()\n"
   ]
  },
  {
   "cell_type": "markdown",
   "metadata": {},
   "source": [
    "Now it is your turn! Be sure to run the code above before completeing your portion here. \n",
    "\n",
    "1. Create a new class called Bird that inherits from Animal.\n",
    "2. Give Bird a unique sound (e.g., \"Tweet!\") and an attribute for its wingspan.\n",
    "3. Create an instance of Bird and make it speak.\n",
    "\n",
    "**Expected Output**\n",
    "\n",
    "``` \n",
    "Buddy says Woof!\n",
    "I'm a Golden Retriever\n",
    "Whiskers says Meow!\n",
    "[Your bird's name] says Tweet!\n",
    "My wingspan is [wingspan value] \n",
    "```\n",
    "\n",
    "**Bonus Challenge:**\n",
    "\n",
    "Implement a method in the Animal class called eat that all animals can use. Each subclass could then override this method with their specific eating habits."
   ]
  },
  {
   "cell_type": "code",
   "execution_count": 18,
   "metadata": {},
   "outputs": [
    {
     "name": "stdout",
     "output_type": "stream",
     "text": [
      "Tweety says Tweet!\n",
      "My wingspan is 20 inches.\n",
      "Tweety is pecking at seeds.\n"
     ]
    }
   ],
   "source": []
  },
  {
   "cell_type": "markdown",
   "metadata": {},
   "source": [
    "---\n",
    "\n",
    "### Final Project before moving onto learning some new libraries. \n",
    "\n",
    "Write a recursive Python function called sum_digits that takes a non-negative integer as input and returns the sum of its digits.\n",
    "\n",
    "Recusive functions are just functions that call themselves before completeing / returning an output.\n",
    "\n",
    "```\n",
    "sum_digits(1234)  # Should return 10 (1 + 2 + 3 + 4)\n",
    "sum_digits(99)     # Should return 18 (9 + 9)\n",
    "sum_digits(0)      # Should return 0\n",
    "```\n",
    "\n",
    "You must use recursion (no loops allowed).\n",
    "The input is guaranteed to be a non-negative integer."
   ]
  },
  {
   "cell_type": "code",
   "execution_count": 21,
   "metadata": {},
   "outputs": [
    {
     "data": {
      "text/plain": [
       "10"
      ]
     },
     "execution_count": 21,
     "metadata": {},
     "output_type": "execute_result"
    }
   ],
   "source": []
  }
 ],
 "metadata": {
  "kernelspec": {
   "display_name": "Python 3",
   "language": "python",
   "name": "python3"
  },
  "language_info": {
   "codemirror_mode": {
    "name": "ipython",
    "version": 3
   },
   "file_extension": ".py",
   "mimetype": "text/x-python",
   "name": "python",
   "nbconvert_exporter": "python",
   "pygments_lexer": "ipython3",
   "version": "3.12.2"
  }
 },
 "nbformat": 4,
 "nbformat_minor": 2
}
